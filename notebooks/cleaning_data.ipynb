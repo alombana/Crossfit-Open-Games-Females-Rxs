{
 "cells": [
  {
   "cell_type": "markdown",
   "id": "ba02b82c-51d9-48ab-aaa8-2952cbbceb47",
   "metadata": {},
   "source": [
    "## INFORMATION ABOUT COLUMNS AND ROWS DROPPED\n",
    "Columns to drop:\n",
    "Unnamed: 0  - Same index\n",
    "firstName  -I already have this information in the competitor name column\n",
    "lastName   -I already have this information in the competitor name column\n",
    "status - no relevan for my analysis\n",
    "postCompStatus - non info\n",
    "gender - this analysis is only for the femela competitors, therefore all are Female\n",
    "profilePicS3key - image, no relevan for my analysis\n",
    "countryShortCode - non info\n",
    "regionId - same as regionName\n",
    "affiliateId - no relevand for my analysis\n",
    "scoreIdentifier - no relevand for my analysis\n",
    "scoreIdentifier.1 - no relevand for my analysis\n",
    "scoreIdentifier.2 - no relevand for my analysis\n",
    "scoreIdentifier.3 - no relevand for my analysis\n",
    "mobileScoreDisplay - non info\n",
    "mobileScoreDisplay.1 - non info\n",
    "mobileScoreDisplay.2 - non info\n",
    "mobileScoreDisplay.3 - non info\n",
    "heat - non info\n",
    "lane - non info\n",
    "heat.1 - non info\n",
    "lane.1 - non info\n",
    "heat.2 - non info\n",
    "lane.2 - non info\n",
    "heat.3 - non info\n",
    "lane.3 - non info\n",
    "time.3 - non info, because that WOD was not measure in time but in repetitions\n",
    "time','time.1','time.2' - The same info as but in seconds: 'scoreDisplay','scoreDisplay.1','scoreDisplay.2'\n",
    "Total columns to drop 30\n",
    "\n",
    "Rows to drop:\n",
    "\n",
    "valid 14334 scoreDisplay 14334 valid.1 18105 scoreDisplay.1 18105 valid.2 27836 scoreDisplay.2 27836 valid.3 28278 #difference btw the Valid.3 and scoreDisplay.3 is because the value is zero, or empty in scoreDisplay.3. scoreDisplay.3 27807 #Therefore, no validation was done and it was filled by the data as a NaN value in valid.3\n",
    "\n",
    "I decided to use dropna subset how 'any'\n"
   ]
  },
  {
   "cell_type": "code",
   "execution_count": null,
   "id": "037c777b-b053-4338-b1df-ab2a65bbf582",
   "metadata": {},
   "outputs": [],
   "source": [
    "import pandas as pd\n",
    "import numpy as np\n",
    "import re"
   ]
  },
  {
   "cell_type": "markdown",
   "id": "6b47c298-b2ab-4654-abf3-88987c267191",
   "metadata": {},
   "source": [
    "## DATA2021"
   ]
  },
  {
   "cell_type": "code",
   "execution_count": null,
   "id": "a8f92129-f583-417e-9e8c-b6bc69f1b0ea",
   "metadata": {},
   "outputs": [],
   "source": [
    "data21=pd.read_csv('data_open_2021.csv', low_memory=False)"
   ]
  },
  {
   "cell_type": "code",
   "execution_count": null,
   "id": "efd1bf3d-c6be-49ac-9462-a15bdaaf0dbd",
   "metadata": {},
   "outputs": [],
   "source": [
    "data21"
   ]
  },
  {
   "cell_type": "code",
   "execution_count": null,
   "id": "df453a28-b084-41c3-a5d7-0b49ea64bd43",
   "metadata": {},
   "outputs": [],
   "source": [
    "#columns:\n",
    "data21.drop(['Unnamed: 0', 'firstName','lastName','status','postCompStatus','gender','profilePicS3key','countryShortCode','regionId','affiliateId','scoreIdentifier','scoreIdentifier.1','scoreIdentifier.2','scoreIdentifier.3','mobileScoreDisplay','mobileScoreDisplay.1','mobileScoreDisplay.2','mobileScoreDisplay.3','heat','heat.1','heat.2','heat.3','lane','lane.1','lane.2','lane.3', 'time', 'time.1', 'time.2', 'time.3'],axis=1, inplace=True)\n",
    "\n",
    "#rows:\n",
    "data21.dropna(subset=['valid','scoreDisplay','valid.1','scoreDisplay.1','valid.2','scoreDisplay.2','valid.3','scoreDisplay.3'], how='any', inplace=True)\n"
   ]
  },
  {
   "cell_type": "markdown",
   "id": "ce1bd48a-422b-4b1a-b7c6-9c64b48cc3ff",
   "metadata": {
    "scrolled": true
   },
   "source": [
    "#code for checking the diference btw valid.3 and scoreDisplay.3 for deciding if drop or needed to filling with a value\n",
    "condition1=df['scoreDisplay.3'].isna()\n",
    "condition2=df['valid.3'].isna()\n",
    "pd.DataFrame(condition1)\n",
    "pd.DataFrame(condition2)\n",
    "a=pd.concat([condition1,condition2], axis=1)\n",
    "condition=((a['scoreDisplay.3'].isin([False])) & (a['valid.3'].isin([True])))\n",
    "a[condition]\n",
    "data21.loc[105590]"
   ]
  },
  {
   "cell_type": "markdown",
   "id": "248f8f80-d7b4-4145-ba05-37160868ca59",
   "metadata": {},
   "source": [
    "## DATA2022"
   ]
  },
  {
   "cell_type": "code",
   "execution_count": null,
   "id": "6e5b9ab9-a032-4f33-8089-74bd78be2263",
   "metadata": {},
   "outputs": [],
   "source": [
    "data22=pd.read_csv('data_open_2022.csv', low_memory=False)"
   ]
  },
  {
   "cell_type": "code",
   "execution_count": null,
   "id": "700b1a89-2fd3-4167-ac48-4d1e254c61a5",
   "metadata": {
    "scrolled": true
   },
   "outputs": [],
   "source": [
    "data22.info()"
   ]
  },
  {
   "cell_type": "code",
   "execution_count": null,
   "id": "d817a5b1-7ee8-4912-8f71-fe9fea21108a",
   "metadata": {},
   "outputs": [],
   "source": [
    "# I drop the same columns for data21 adding: 'judge_user_id','judge_user_id.1','judge_user_id.2'. That wasn't the last year\n",
    "data22.drop(['Unnamed: 0', 'firstName','lastName','status','postCompStatus','gender','profilePicS3key','countryShortCode','regionId','affiliateId','scoreIdentifier','scoreIdentifier.1','scoreIdentifier.2','mobileScoreDisplay','mobileScoreDisplay.1','mobileScoreDisplay.2','heat','heat.1','heat.2','lane','lane.1','lane.2', 'time', 'time.1', 'time.2','judge_user_id','judge_user_id.1','judge_user_id.2'],axis=1, inplace=True)\n",
    "\n",
    "# I drop the same rows for data21, omitting valid.3 and scoreDisplay.3 because they were only 3 exercises.\n",
    "data22.dropna(subset=['valid','scoreDisplay','valid.1','scoreDisplay.1','valid.2','scoreDisplay.2'], how='any', inplace=True)"
   ]
  },
  {
   "cell_type": "markdown",
   "id": "fe7d0895-d5ae-46e6-8b2d-89dd279b1923",
   "metadata": {},
   "source": [
    "## DATA2023"
   ]
  },
  {
   "cell_type": "code",
   "execution_count": null,
   "id": "90cabcaa-1fdb-42b4-ac2f-18f102d498b4",
   "metadata": {},
   "outputs": [],
   "source": [
    "data23=pd.read_csv('data_open_2023.csv', low_memory=False)"
   ]
  },
  {
   "cell_type": "code",
   "execution_count": null,
   "id": "749a82c0-5080-4111-8090-c48cad9addc3",
   "metadata": {
    "scrolled": true
   },
   "outputs": [],
   "source": [
    "data23.isna().sum()"
   ]
  },
  {
   "cell_type": "code",
   "execution_count": null,
   "id": "a2432319-5e18-4fb3-bbcc-7a6bf55a88df",
   "metadata": {},
   "outputs": [],
   "source": [
    "# I drop the same columns for data21 adding: 'judge_user_id','judge_user_id.1','judge_user_id.2'. That wasn't the last year\n",
    "data23.drop(['Unnamed: 0', 'firstName','lastName','status','postCompStatus','gender','profilePicS3key','countryShortCode','regionId','affiliateId','scoreIdentifier','scoreIdentifier.1','scoreIdentifier.2','scoreIdentifier.3','mobileScoreDisplay','mobileScoreDisplay.1','mobileScoreDisplay.2','mobileScoreDisplay.3','heat','heat.1','heat.2','heat.3','lane','lane.1','lane.2','lane.3', 'time', 'time.1', 'time.2','time.3','judge_user_id','judge_user_id.1','judge_user_id.2','judge_user_id.3'],axis=1, inplace=True)\n",
    "\n",
    "# I drop the same rows for data21,\n",
    "data23.dropna(subset=['valid','scoreDisplay','valid.1','scoreDisplay.1','valid.2','scoreDisplay.2','valid.3','scoreDisplay.3'], how='any', inplace=True)\n"
   ]
  },
  {
   "cell_type": "markdown",
   "id": "5dbf3f33-44a1-4d07-aec8-72d99fc05b97",
   "metadata": {},
   "source": [
    "## Concatenating data21,data22,data23 - vertically"
   ]
  },
  {
   "cell_type": "code",
   "execution_count": null,
   "id": "3969d8c9-a329-4522-812c-6c45ac612692",
   "metadata": {},
   "outputs": [],
   "source": [
    "data=pd.concat([data21, data22, data23])"
   ]
  },
  {
   "cell_type": "code",
   "execution_count": null,
   "id": "b389b0ed-6ef3-4e68-ac85-6675d8b0903d",
   "metadata": {},
   "outputs": [],
   "source": [
    "#I use Fillna for filling the NaN values for the one-less-WOD in 2022 and for the Afiliate name I enter \"no afiliate\"\n",
    "data[(['ordinal.3','rank.3','score.3','valid.3','scoreDisplay.3','scaled.3','video.3','breakdown.3'])]=data[(['ordinal.3','rank.3','score.3','valid.3','scoreDisplay.3','scaled.3','video.3','breakdown.3'])].fillna('only 3-WOD for 2023')\n",
    "data['affiliateName']=data['affiliateName'].fillna('no name of gym entered')\n",
    "data['height']=data['height'].fillna('0')\n",
    "data['weight']=data['weight'].fillna('0')\n",
    "\n",
    "#I decided to drop the columns related to the judges because the information there is not relevant for my case.\n",
    "data.drop(['judge','affiliate','judge.1','affiliate.1','judge.2','affiliate.2','judge.3','affiliate.3'], axis=1, inplace=True)\n",
    "data.dropna(subset=['breakdown','breakdown.1', 'breakdown.2'], how='any', inplace=True)\n",
    "\n",
    "\n",
    "#The name for the code 'RU'/'BY' that stand for \"Russia\"/\"Belarus\", was not in the list of the Origin Name, so I input it:\n",
    "data['countryOfOriginName'] = [ name if code !=\"RU\" else \"Russia\" for code, name in zip(data['countryOfOriginCode'].values, data['countryOfOriginName'].values)]\n",
    "data['countryOfOriginName'] = [ name if code !=\"BY\" else \"Belarus\" for code, name in zip(data['countryOfOriginCode'].values, data['countryOfOriginName'].values)]\n",
    "\n",
    "#After using the countryOfOriginCode for completing the countryOfOriginName NaN values. I decided to drop it, because I have the same info in both\n",
    "data.drop(['countryOfOriginCode'], axis=1, inplace=True)"
   ]
  },
  {
   "cell_type": "code",
   "execution_count": null,
   "id": "6e7ab1bb-25af-4432-8ac4-a6aa046dedfc",
   "metadata": {
    "scrolled": true
   },
   "outputs": [],
   "source": [
    "data.duplicated().any() # False"
   ]
  },
  {
   "cell_type": "code",
   "execution_count": null,
   "id": "8f364689-8d53-4170-a65b-307513f5e25f",
   "metadata": {},
   "outputs": [],
   "source": [
    "data.columns=['final_rank', 'points', 'competitor_Id', 'competitor_name', 'country',\n",
    "       'region_name', 'division_Id', 'affiliate_name', 'age', 'height_cm', 'weight_kg',\n",
    "       'team_captain', 'wod_1', 'wod_rank_1', 'wod_score_1', 'valid_1', 'wod_scoreDisplay_1',\n",
    "       'wod_scaled_1', 'wod_video_1', 'wod_breakdown_1', 'wod_2', 'wod_rank_2', 'wod_score_2',\n",
    "       'valid_2', 'wod_scoreDisplay_2', 'wod_scaled_2', 'wod_video_2', 'wod_breakdown_2',\n",
    "       'wod_3', 'wod_rank_3', 'wod_score_3', 'valid_3', 'wod_scoreDisplay_3',\n",
    "       'wod_scaled_3', 'wod_video_3', 'wod_breakdown_3', 'wod_4', 'wod_rank_4', 'wod_score_4',\n",
    "       'valid_4', 'wod_scoreDisplay_4', 'wod_scaled_4', 'wod_video_4', 'wod_breakdown_4',\n",
    "       'year']\n",
    "\n",
    "data.drop(['valid_1','valid_2','valid_3','valid_4','wod_1','wod_2','wod_3','wod_4'], axis=1, inplace=True)\n",
    "data['competitor_name']=data['competitor_name'].apply(str)\n",
    "data['height_cm']=data['height_cm'].apply(lambda x: str(x))\n",
    "data['weight_kg']=data['weight_kg'].apply(lambda x: str(x))\n",
    "data['wod_score_1']=data['wod_score_1'].apply(lambda x: str(x)[:-4])\n",
    "data['wod_score_2']=data['wod_score_2'].apply(lambda x: str(x)[:-4])\n",
    "data['wod_score_3']=data['wod_score_3'].apply(lambda x: str(x)[:-4])"
   ]
  },
  {
   "cell_type": "code",
   "execution_count": null,
   "id": "7bfef786-2d3b-4472-b9ef-eef13aacea36",
   "metadata": {},
   "outputs": [],
   "source": []
  },
  {
   "cell_type": "code",
   "execution_count": null,
   "id": "f5ff7276-085c-470f-a8e6-ce488634c961",
   "metadata": {},
   "outputs": [],
   "source": [
    "data"
   ]
  },
  {
   "cell_type": "code",
   "execution_count": null,
   "id": "9578dcba-346f-48f5-a208-f0bdb9a1f1de",
   "metadata": {},
   "outputs": [],
   "source": [
    "data.sort_values(by=['final_rank'], ignore_index=True,inplace=True)"
   ]
  },
  {
   "cell_type": "code",
   "execution_count": null,
   "id": "241094a4-af1b-4ec3-8b11-c6ee118dff53",
   "metadata": {},
   "outputs": [],
   "source": [
    "data=data.iloc[:100000]\n",
    "df=data.copy()"
   ]
  },
  {
   "cell_type": "code",
   "execution_count": null,
   "id": "b9d5d3e0-8f77-4e9b-a95e-b299219def2f",
   "metadata": {},
   "outputs": [],
   "source": [
    "\n",
    "def clean_height(value):\n",
    "    if 'in' in value:\n",
    "        value=(int(re.sub(r'\\D','',value)))*2.54\n",
    "        value=round(value,2)\n",
    "        return value\n",
    "    elif 'cm' in value:\n",
    "        value=(int(re.sub(r'\\D','',value)))\n",
    "        value=round(value,2)\n",
    "        return value\n",
    "    else:\n",
    "        value=int(value)\n",
    "        return value\n",
    "\n",
    "def clean_weight(value):\n",
    "    if 'lb' in value:\n",
    "        value=(int(re.sub(r'\\D','',value)))/2.205\n",
    "        value=round(value,2)\n",
    "        return value\n",
    "    elif 'kg' in value:\n",
    "        value=(int(re.sub(r'\\D','',value)))\n",
    "        value=round(value,2)\n",
    "        return value\n",
    "    else:\n",
    "        value=int(value)\n",
    "        return value\n",
    "\n",
    "\n",
    "df['height_cm']=df['height_cm'].apply(clean_height)\n",
    "df['weight_kg']=df['weight_kg'].apply(clean_weight)\n",
    "\n",
    "\n"
   ]
  },
  {
   "cell_type": "code",
   "execution_count": null,
   "id": "115109eb-d1ea-45f5-a6e9-7cc38fd94ff5",
   "metadata": {},
   "outputs": [],
   "source": [
    "df.to_csv('dataclean_open_21_22_23.csv',index=False)"
   ]
  }
 ],
 "metadata": {
  "kernelspec": {
   "display_name": "env_1",
   "language": "python",
   "name": "env_1"
  },
  "language_info": {
   "codemirror_mode": {
    "name": "ipython",
    "version": 3
   },
   "file_extension": ".py",
   "mimetype": "text/x-python",
   "name": "python",
   "nbconvert_exporter": "python",
   "pygments_lexer": "ipython3",
   "version": "3.11.5"
  }
 },
 "nbformat": 4,
 "nbformat_minor": 5
}
