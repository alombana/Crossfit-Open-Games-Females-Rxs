{
 "cells": [
  {
   "cell_type": "code",
   "execution_count": null,
   "id": "43dc88a5-4a74-4147-886b-d3436b6a4594",
   "metadata": {},
   "outputs": [],
   "source": [
    "import requests\n",
    "import pandas as pd\n",
    "import time\n",
    "import functions"
   ]
  },
  {
   "cell_type": "code",
   "execution_count": null,
   "id": "3b312c27-81dd-4563-b17b-6843dd0c2cec",
   "metadata": {},
   "outputs": [],
   "source": [
    "open_2022='https://c3po.crossfit.com/api/leaderboards/v2/competitions/open/2022/leaderboards?view=0&division=2&region=0&scaled=0&sort=0&page=1'\n",
    "response=requests.get(open_2022)\n",
    "data=response.json()\n"
   ]
  },
  {
   "cell_type": "code",
   "execution_count": null,
   "id": "48d12fbc-09f1-4704-8887-5f66f31df522",
   "metadata": {},
   "outputs": [],
   "source": [
    "page=1\n",
    "check=False\n",
    "data_2022=[]\n",
    "while check!=True:\n",
    "    open_2022=f'https://c3po.crossfit.com/api/leaderboards/v2/competitions/open/2022/leaderboards?view=0&division=2&region=0&scaled=0&sort=0&page={page}'\n",
    "    response=requests.get(open_2022)\n",
    "    \n",
    "    if (response.status_code==200):\n",
    "        data=response.json()\n",
    "        data_2022.append(data)\n",
    "        \n",
    "    else:\n",
    "        raise ValueError('no access, status is not equal to 200')\n",
    "    \n",
    "    check=data['pagination']['totalPages']== data['pagination']['currentPage']\n",
    "    page+=1\n",
    "    if data['pagination']['currentPage']==1000:\n",
    "        print('page 1000')\n",
    "    elif data['pagination']['currentPage']==2000:\n",
    "        print('page 2000')\n",
    "    time.sleep(0.2)\n",
    "\n"
   ]
  },
  {
   "cell_type": "code",
   "execution_count": null,
   "id": "830a5b85-fafd-48b0-87c7-3b7e0404e60f",
   "metadata": {},
   "outputs": [],
   "source": [
    "final_data=functions.calling_file(data_2022)"
   ]
  },
  {
   "cell_type": "code",
   "execution_count": null,
   "id": "fb33c700-727b-4fcf-b279-a8a5ac97d55b",
   "metadata": {},
   "outputs": [],
   "source": [
    "final_data# List with the information that will be used for creating the DataFrame for the Open games 2022"
   ]
  },
  {
   "cell_type": "code",
   "execution_count": null,
   "id": "1c19ee77-7ce9-4cf2-9139-a1f9b7a98644",
   "metadata": {},
   "outputs": [],
   "source": [
    "rank=pd.DataFrame(final_data[0])\n",
    "points=pd.DataFrame(final_data[1])\n",
    "competitors_info=pd.DataFrame(final_data[2])\n",
    "exerc1=pd.DataFrame(final_data[3])\n",
    "exerc2=pd.DataFrame(final_data[4])\n",
    "exerc3=pd.DataFrame(final_data[5])\n",
    "#exerc4=pd.DataFrame(final_data[6]) There were only 3 exercises for the open 2022\n"
   ]
  },
  {
   "cell_type": "code",
   "execution_count": null,
   "id": "bb8613f5-76f6-46ba-9fd6-f0119a8d3c74",
   "metadata": {},
   "outputs": [],
   "source": [
    "df_open2022=pd.concat([rank, points,competitors_info,exerc1,exerc2,exerc3], axis=1)\n",
    "df_open2022['Year']='2022'"
   ]
  },
  {
   "cell_type": "code",
   "execution_count": null,
   "id": "4ecb8d90-3729-4df7-b062-df2ecf1dc154",
   "metadata": {},
   "outputs": [],
   "source": [
    "df_open2022"
   ]
  },
  {
   "cell_type": "code",
   "execution_count": null,
   "id": "8ae98c72-b972-4af6-8d70-496ca04c87b2",
   "metadata": {},
   "outputs": [],
   "source": [
    "df_open2022.to_csv('data_open_2022.csv')"
   ]
  }
 ],
 "metadata": {
  "kernelspec": {
   "display_name": "env_1",
   "language": "python",
   "name": "env_1"
  },
  "language_info": {
   "codemirror_mode": {
    "name": "ipython",
    "version": 3
   },
   "file_extension": ".py",
   "mimetype": "text/x-python",
   "name": "python",
   "nbconvert_exporter": "python",
   "pygments_lexer": "ipython3",
   "version": "3.11.5"
  }
 },
 "nbformat": 4,
 "nbformat_minor": 5
}
